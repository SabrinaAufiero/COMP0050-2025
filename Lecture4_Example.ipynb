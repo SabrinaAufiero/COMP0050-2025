{
 "cells": [
  {
   "cell_type": "markdown",
   "id": "91146c08-b4b1-4853-839f-5394d6e204df",
   "metadata": {},
   "source": [
    "# Example: Volatility "
   ]
  },
  {
   "cell_type": "code",
   "execution_count": 14,
   "id": "57e5d3c0-7a20-4905-9758-de475d7ba4f3",
   "metadata": {},
   "outputs": [],
   "source": [
    "import pandas as pd\n",
    "import numpy as np\n",
    "import matplotlib.pyplot as plt\n",
    "from sklearn.cluster import KMeans\n",
    "import yfinance as yf"
   ]
  },
  {
   "cell_type": "markdown",
   "id": "af50fa5d-de47-42a7-a671-1c4ef42b3db4",
   "metadata": {},
   "source": [
    "SPY is the stock code of exchange traded funds that track the performance of the S&P 500 index; it trades like a stock. \n",
    "\n",
    "SPX is a value representing the level of the Standard & Poor's 500 Index and cannot be traded directly."
   ]
  },
  {
   "cell_type": "code",
   "execution_count": 15,
   "id": "70ed65d4-3a58-4ad4-ae8c-ce2a887b31dc",
   "metadata": {},
   "outputs": [
    {
     "data": {
      "text/html": [
       "<div>\n",
       "<style scoped>\n",
       "    .dataframe tbody tr th:only-of-type {\n",
       "        vertical-align: middle;\n",
       "    }\n",
       "\n",
       "    .dataframe tbody tr th {\n",
       "        vertical-align: top;\n",
       "    }\n",
       "\n",
       "    .dataframe thead th {\n",
       "        text-align: right;\n",
       "    }\n",
       "</style>\n",
       "<table border=\"1\" class=\"dataframe\">\n",
       "  <thead>\n",
       "    <tr style=\"text-align: right;\">\n",
       "      <th></th>\n",
       "      <th>SPX_Close</th>\n",
       "    </tr>\n",
       "    <tr>\n",
       "      <th>date</th>\n",
       "      <th></th>\n",
       "    </tr>\n",
       "  </thead>\n",
       "  <tbody>\n",
       "    <tr>\n",
       "      <th>2024-04-09</th>\n",
       "      <td>5209.91</td>\n",
       "    </tr>\n",
       "    <tr>\n",
       "      <th>2024-04-08</th>\n",
       "      <td>5202.39</td>\n",
       "    </tr>\n",
       "    <tr>\n",
       "      <th>2024-04-05</th>\n",
       "      <td>5204.34</td>\n",
       "    </tr>\n",
       "    <tr>\n",
       "      <th>2024-04-04</th>\n",
       "      <td>5147.21</td>\n",
       "    </tr>\n",
       "    <tr>\n",
       "      <th>2024-04-03</th>\n",
       "      <td>5211.49</td>\n",
       "    </tr>\n",
       "    <tr>\n",
       "      <th>...</th>\n",
       "      <td>...</td>\n",
       "    </tr>\n",
       "    <tr>\n",
       "      <th>2014-04-16</th>\n",
       "      <td>1862.31</td>\n",
       "    </tr>\n",
       "    <tr>\n",
       "      <th>2014-04-15</th>\n",
       "      <td>1842.98</td>\n",
       "    </tr>\n",
       "    <tr>\n",
       "      <th>2014-04-14</th>\n",
       "      <td>1830.61</td>\n",
       "    </tr>\n",
       "    <tr>\n",
       "      <th>2014-04-11</th>\n",
       "      <td>1815.69</td>\n",
       "    </tr>\n",
       "    <tr>\n",
       "      <th>2014-04-10</th>\n",
       "      <td>1833.08</td>\n",
       "    </tr>\n",
       "  </tbody>\n",
       "</table>\n",
       "<p>2531 rows × 1 columns</p>\n",
       "</div>"
      ],
      "text/plain": [
       "            SPX_Close\n",
       "date                 \n",
       "2024-04-09    5209.91\n",
       "2024-04-08    5202.39\n",
       "2024-04-05    5204.34\n",
       "2024-04-04    5147.21\n",
       "2024-04-03    5211.49\n",
       "...               ...\n",
       "2014-04-16    1862.31\n",
       "2014-04-15    1842.98\n",
       "2014-04-14    1830.61\n",
       "2014-04-11    1815.69\n",
       "2014-04-10    1833.08\n",
       "\n",
       "[2531 rows x 1 columns]"
      ]
     },
     "metadata": {},
     "output_type": "display_data"
    }
   ],
   "source": [
    "df = pd.read_excel('/Users/sabrina.aufiero/Desktop/COMP0050 Machine Learning with Applications in Finance/Data_Lecture5/sp_20250301.xlsx', sheet_name=0, parse_dates=['date'], index_col='date')\n",
    "display(df)\n",
    "# df.rename(columns={'SPX_Close': 'Close'}, inplace=True)"
   ]
  },
  {
   "cell_type": "code",
   "execution_count": 16,
   "id": "653cc7aa-0c76-4d53-b254-de9543ca6b53",
   "metadata": {},
   "outputs": [
    {
     "data": {
      "text/html": [
       "<div>\n",
       "<style scoped>\n",
       "    .dataframe tbody tr th:only-of-type {\n",
       "        vertical-align: middle;\n",
       "    }\n",
       "\n",
       "    .dataframe tbody tr th {\n",
       "        vertical-align: top;\n",
       "    }\n",
       "\n",
       "    .dataframe thead th {\n",
       "        text-align: right;\n",
       "    }\n",
       "</style>\n",
       "<table border=\"1\" class=\"dataframe\">\n",
       "  <thead>\n",
       "    <tr style=\"text-align: right;\">\n",
       "      <th></th>\n",
       "      <th>SPX_Close</th>\n",
       "      <th>returns</th>\n",
       "      <th>vol_30d</th>\n",
       "    </tr>\n",
       "    <tr>\n",
       "      <th>date</th>\n",
       "      <th></th>\n",
       "      <th></th>\n",
       "      <th></th>\n",
       "    </tr>\n",
       "  </thead>\n",
       "  <tbody>\n",
       "    <tr>\n",
       "      <th>2024-02-26</th>\n",
       "      <td>5069.53</td>\n",
       "      <td>-0.001703</td>\n",
       "      <td>0.006219</td>\n",
       "    </tr>\n",
       "    <tr>\n",
       "      <th>2024-02-23</th>\n",
       "      <td>5088.80</td>\n",
       "      <td>0.003801</td>\n",
       "      <td>0.006276</td>\n",
       "    </tr>\n",
       "    <tr>\n",
       "      <th>2024-02-22</th>\n",
       "      <td>5087.03</td>\n",
       "      <td>-0.000348</td>\n",
       "      <td>0.006273</td>\n",
       "    </tr>\n",
       "    <tr>\n",
       "      <th>2024-02-21</th>\n",
       "      <td>4981.80</td>\n",
       "      <td>-0.020686</td>\n",
       "      <td>0.007025</td>\n",
       "    </tr>\n",
       "    <tr>\n",
       "      <th>2024-02-20</th>\n",
       "      <td>4975.51</td>\n",
       "      <td>-0.001263</td>\n",
       "      <td>0.006542</td>\n",
       "    </tr>\n",
       "    <tr>\n",
       "      <th>...</th>\n",
       "      <td>...</td>\n",
       "      <td>...</td>\n",
       "      <td>...</td>\n",
       "    </tr>\n",
       "    <tr>\n",
       "      <th>2014-04-16</th>\n",
       "      <td>1862.31</td>\n",
       "      <td>-0.001362</td>\n",
       "      <td>0.004739</td>\n",
       "    </tr>\n",
       "    <tr>\n",
       "      <th>2014-04-15</th>\n",
       "      <td>1842.98</td>\n",
       "      <td>-0.010380</td>\n",
       "      <td>0.005032</td>\n",
       "    </tr>\n",
       "    <tr>\n",
       "      <th>2014-04-14</th>\n",
       "      <td>1830.61</td>\n",
       "      <td>-0.006712</td>\n",
       "      <td>0.005058</td>\n",
       "    </tr>\n",
       "    <tr>\n",
       "      <th>2014-04-11</th>\n",
       "      <td>1815.69</td>\n",
       "      <td>-0.008150</td>\n",
       "      <td>0.005206</td>\n",
       "    </tr>\n",
       "    <tr>\n",
       "      <th>2014-04-10</th>\n",
       "      <td>1833.08</td>\n",
       "      <td>0.009578</td>\n",
       "      <td>0.005556</td>\n",
       "    </tr>\n",
       "  </tbody>\n",
       "</table>\n",
       "<p>2501 rows × 3 columns</p>\n",
       "</div>"
      ],
      "text/plain": [
       "            SPX_Close   returns   vol_30d\n",
       "date                                     \n",
       "2024-02-26    5069.53 -0.001703  0.006219\n",
       "2024-02-23    5088.80  0.003801  0.006276\n",
       "2024-02-22    5087.03 -0.000348  0.006273\n",
       "2024-02-21    4981.80 -0.020686  0.007025\n",
       "2024-02-20    4975.51 -0.001263  0.006542\n",
       "...               ...       ...       ...\n",
       "2014-04-16    1862.31 -0.001362  0.004739\n",
       "2014-04-15    1842.98 -0.010380  0.005032\n",
       "2014-04-14    1830.61 -0.006712  0.005058\n",
       "2014-04-11    1815.69 -0.008150  0.005206\n",
       "2014-04-10    1833.08  0.009578  0.005556\n",
       "\n",
       "[2501 rows x 3 columns]"
      ]
     },
     "metadata": {},
     "output_type": "display_data"
    }
   ],
   "source": [
    "# Calculate 30-Day Rolling Volatility\n",
    "\n",
    "# Compute daily returns (percentage change)\n",
    "df['returns'] = df['SPX_Close'].pct_change()\n",
    "\n",
    "# Compute 30-day rolling standard deviation of returns (this is your \"30-day volatility\")\n",
    "df['vol_30d'] = df['returns'].rolling(window=30).std()\n",
    "\n",
    "# Remove the initial NaNs\n",
    "df.dropna(subset=['vol_30d'], inplace=True)\n",
    "\n",
    "display(df)"
   ]
  },
  {
   "cell_type": "code",
   "execution_count": 17,
   "id": "0b092763-a4c1-4955-ae40-4b43098daf9c",
   "metadata": {},
   "outputs": [
    {
     "data": {
      "text/html": [
       "<style>#sk-container-id-1 {color: black;}#sk-container-id-1 pre{padding: 0;}#sk-container-id-1 div.sk-toggleable {background-color: white;}#sk-container-id-1 label.sk-toggleable__label {cursor: pointer;display: block;width: 100%;margin-bottom: 0;padding: 0.3em;box-sizing: border-box;text-align: center;}#sk-container-id-1 label.sk-toggleable__label-arrow:before {content: \"▸\";float: left;margin-right: 0.25em;color: #696969;}#sk-container-id-1 label.sk-toggleable__label-arrow:hover:before {color: black;}#sk-container-id-1 div.sk-estimator:hover label.sk-toggleable__label-arrow:before {color: black;}#sk-container-id-1 div.sk-toggleable__content {max-height: 0;max-width: 0;overflow: hidden;text-align: left;background-color: #f0f8ff;}#sk-container-id-1 div.sk-toggleable__content pre {margin: 0.2em;color: black;border-radius: 0.25em;background-color: #f0f8ff;}#sk-container-id-1 input.sk-toggleable__control:checked~div.sk-toggleable__content {max-height: 200px;max-width: 100%;overflow: auto;}#sk-container-id-1 input.sk-toggleable__control:checked~label.sk-toggleable__label-arrow:before {content: \"▾\";}#sk-container-id-1 div.sk-estimator input.sk-toggleable__control:checked~label.sk-toggleable__label {background-color: #d4ebff;}#sk-container-id-1 div.sk-label input.sk-toggleable__control:checked~label.sk-toggleable__label {background-color: #d4ebff;}#sk-container-id-1 input.sk-hidden--visually {border: 0;clip: rect(1px 1px 1px 1px);clip: rect(1px, 1px, 1px, 1px);height: 1px;margin: -1px;overflow: hidden;padding: 0;position: absolute;width: 1px;}#sk-container-id-1 div.sk-estimator {font-family: monospace;background-color: #f0f8ff;border: 1px dotted black;border-radius: 0.25em;box-sizing: border-box;margin-bottom: 0.5em;}#sk-container-id-1 div.sk-estimator:hover {background-color: #d4ebff;}#sk-container-id-1 div.sk-parallel-item::after {content: \"\";width: 100%;border-bottom: 1px solid gray;flex-grow: 1;}#sk-container-id-1 div.sk-label:hover label.sk-toggleable__label {background-color: #d4ebff;}#sk-container-id-1 div.sk-serial::before {content: \"\";position: absolute;border-left: 1px solid gray;box-sizing: border-box;top: 0;bottom: 0;left: 50%;z-index: 0;}#sk-container-id-1 div.sk-serial {display: flex;flex-direction: column;align-items: center;background-color: white;padding-right: 0.2em;padding-left: 0.2em;position: relative;}#sk-container-id-1 div.sk-item {position: relative;z-index: 1;}#sk-container-id-1 div.sk-parallel {display: flex;align-items: stretch;justify-content: center;background-color: white;position: relative;}#sk-container-id-1 div.sk-item::before, #sk-container-id-1 div.sk-parallel-item::before {content: \"\";position: absolute;border-left: 1px solid gray;box-sizing: border-box;top: 0;bottom: 0;left: 50%;z-index: -1;}#sk-container-id-1 div.sk-parallel-item {display: flex;flex-direction: column;z-index: 1;position: relative;background-color: white;}#sk-container-id-1 div.sk-parallel-item:first-child::after {align-self: flex-end;width: 50%;}#sk-container-id-1 div.sk-parallel-item:last-child::after {align-self: flex-start;width: 50%;}#sk-container-id-1 div.sk-parallel-item:only-child::after {width: 0;}#sk-container-id-1 div.sk-dashed-wrapped {border: 1px dashed gray;margin: 0 0.4em 0.5em 0.4em;box-sizing: border-box;padding-bottom: 0.4em;background-color: white;}#sk-container-id-1 div.sk-label label {font-family: monospace;font-weight: bold;display: inline-block;line-height: 1.2em;}#sk-container-id-1 div.sk-label-container {text-align: center;}#sk-container-id-1 div.sk-container {/* jupyter's `normalize.less` sets `[hidden] { display: none; }` but bootstrap.min.css set `[hidden] { display: none !important; }` so we also need the `!important` here to be able to override the default hidden behavior on the sphinx rendered scikit-learn.org. See: https://github.com/scikit-learn/scikit-learn/issues/21755 */display: inline-block !important;position: relative;}#sk-container-id-1 div.sk-text-repr-fallback {display: none;}</style><div id=\"sk-container-id-1\" class=\"sk-top-container\"><div class=\"sk-text-repr-fallback\"><pre>KMeans(n_clusters=3, n_init=10, random_state=42)</pre><b>In a Jupyter environment, please rerun this cell to show the HTML representation or trust the notebook. <br />On GitHub, the HTML representation is unable to render, please try loading this page with nbviewer.org.</b></div><div class=\"sk-container\" hidden><div class=\"sk-item\"><div class=\"sk-estimator sk-toggleable\"><input class=\"sk-toggleable__control sk-hidden--visually\" id=\"sk-estimator-id-1\" type=\"checkbox\" checked><label for=\"sk-estimator-id-1\" class=\"sk-toggleable__label sk-toggleable__label-arrow\">KMeans</label><div class=\"sk-toggleable__content\"><pre>KMeans(n_clusters=3, n_init=10, random_state=42)</pre></div></div></div></div></div>"
      ],
      "text/plain": [
       "KMeans(n_clusters=3, n_init=10, random_state=42)"
      ]
     },
     "execution_count": 17,
     "metadata": {},
     "output_type": "execute_result"
    }
   ],
   "source": [
    "# K-Means Clustering (k=3) on 30-Day Volatility\n",
    "\n",
    "# We cluster the single feature: vol_30d\n",
    "X = df[['vol_30d']].values  # shape: (n_samples, 1)\n",
    "\n",
    "kmeans = KMeans(n_clusters=3, random_state=42, n_init=10)\n",
    "kmeans.fit(X)"
   ]
  },
  {
   "cell_type": "code",
   "execution_count": 20,
   "id": "34e23694-9a06-4f2b-b3eb-cc9d65b04535",
   "metadata": {},
   "outputs": [
    {
     "data": {
      "text/html": [
       "<div>\n",
       "<style scoped>\n",
       "    .dataframe tbody tr th:only-of-type {\n",
       "        vertical-align: middle;\n",
       "    }\n",
       "\n",
       "    .dataframe tbody tr th {\n",
       "        vertical-align: top;\n",
       "    }\n",
       "\n",
       "    .dataframe thead th {\n",
       "        text-align: right;\n",
       "    }\n",
       "</style>\n",
       "<table border=\"1\" class=\"dataframe\">\n",
       "  <thead>\n",
       "    <tr style=\"text-align: right;\">\n",
       "      <th></th>\n",
       "      <th>SPX_Close</th>\n",
       "      <th>returns</th>\n",
       "      <th>vol_30d</th>\n",
       "      <th>cluster</th>\n",
       "    </tr>\n",
       "    <tr>\n",
       "      <th>date</th>\n",
       "      <th></th>\n",
       "      <th></th>\n",
       "      <th></th>\n",
       "      <th></th>\n",
       "    </tr>\n",
       "  </thead>\n",
       "  <tbody>\n",
       "    <tr>\n",
       "      <th>2024-02-26</th>\n",
       "      <td>5069.53</td>\n",
       "      <td>-0.001703</td>\n",
       "      <td>0.006219</td>\n",
       "      <td>1</td>\n",
       "    </tr>\n",
       "    <tr>\n",
       "      <th>2024-02-23</th>\n",
       "      <td>5088.80</td>\n",
       "      <td>0.003801</td>\n",
       "      <td>0.006276</td>\n",
       "      <td>1</td>\n",
       "    </tr>\n",
       "    <tr>\n",
       "      <th>2024-02-22</th>\n",
       "      <td>5087.03</td>\n",
       "      <td>-0.000348</td>\n",
       "      <td>0.006273</td>\n",
       "      <td>1</td>\n",
       "    </tr>\n",
       "    <tr>\n",
       "      <th>2024-02-21</th>\n",
       "      <td>4981.80</td>\n",
       "      <td>-0.020686</td>\n",
       "      <td>0.007025</td>\n",
       "      <td>1</td>\n",
       "    </tr>\n",
       "    <tr>\n",
       "      <th>2024-02-20</th>\n",
       "      <td>4975.51</td>\n",
       "      <td>-0.001263</td>\n",
       "      <td>0.006542</td>\n",
       "      <td>1</td>\n",
       "    </tr>\n",
       "    <tr>\n",
       "      <th>...</th>\n",
       "      <td>...</td>\n",
       "      <td>...</td>\n",
       "      <td>...</td>\n",
       "      <td>...</td>\n",
       "    </tr>\n",
       "    <tr>\n",
       "      <th>2014-04-16</th>\n",
       "      <td>1862.31</td>\n",
       "      <td>-0.001362</td>\n",
       "      <td>0.004739</td>\n",
       "      <td>1</td>\n",
       "    </tr>\n",
       "    <tr>\n",
       "      <th>2014-04-15</th>\n",
       "      <td>1842.98</td>\n",
       "      <td>-0.010380</td>\n",
       "      <td>0.005032</td>\n",
       "      <td>1</td>\n",
       "    </tr>\n",
       "    <tr>\n",
       "      <th>2014-04-14</th>\n",
       "      <td>1830.61</td>\n",
       "      <td>-0.006712</td>\n",
       "      <td>0.005058</td>\n",
       "      <td>1</td>\n",
       "    </tr>\n",
       "    <tr>\n",
       "      <th>2014-04-11</th>\n",
       "      <td>1815.69</td>\n",
       "      <td>-0.008150</td>\n",
       "      <td>0.005206</td>\n",
       "      <td>1</td>\n",
       "    </tr>\n",
       "    <tr>\n",
       "      <th>2014-04-10</th>\n",
       "      <td>1833.08</td>\n",
       "      <td>0.009578</td>\n",
       "      <td>0.005556</td>\n",
       "      <td>1</td>\n",
       "    </tr>\n",
       "  </tbody>\n",
       "</table>\n",
       "<p>2501 rows × 4 columns</p>\n",
       "</div>"
      ],
      "text/plain": [
       "            SPX_Close   returns   vol_30d  cluster\n",
       "date                                              \n",
       "2024-02-26    5069.53 -0.001703  0.006219        1\n",
       "2024-02-23    5088.80  0.003801  0.006276        1\n",
       "2024-02-22    5087.03 -0.000348  0.006273        1\n",
       "2024-02-21    4981.80 -0.020686  0.007025        1\n",
       "2024-02-20    4975.51 -0.001263  0.006542        1\n",
       "...               ...       ...       ...      ...\n",
       "2014-04-16    1862.31 -0.001362  0.004739        1\n",
       "2014-04-15    1842.98 -0.010380  0.005032        1\n",
       "2014-04-14    1830.61 -0.006712  0.005058        1\n",
       "2014-04-11    1815.69 -0.008150  0.005206        1\n",
       "2014-04-10    1833.08  0.009578  0.005556        1\n",
       "\n",
       "[2501 rows x 4 columns]"
      ]
     },
     "metadata": {},
     "output_type": "display_data"
    }
   ],
   "source": [
    "# Assign each date to one of the 3 clusters\n",
    "df['cluster'] = kmeans.labels_\n",
    "\n",
    "display(df)"
   ]
  },
  {
   "cell_type": "code",
   "execution_count": 21,
   "id": "8ff121c8-9066-4657-bc6e-3b1d2ff2013a",
   "metadata": {},
   "outputs": [
    {
     "name": "stdout",
     "output_type": "stream",
     "text": [
      "Number of days in each cluster (k=3):\n",
      "cluster\n",
      "0      37\n",
      "1    1633\n",
      "2     831\n",
      "Name: count, dtype: int64\n",
      "\n",
      "Average 30-day volatility in each cluster:\n",
      "cluster\n",
      "0    0.047279\n",
      "1    0.006394\n",
      "2    0.013678\n",
      "Name: vol_30d, dtype: float64\n"
     ]
    }
   ],
   "source": [
    "# Summarize Cluster Results\n",
    "cluster_counts = df['cluster'].value_counts().sort_index()\n",
    "print(\"Number of days in each cluster (k=3):\")\n",
    "print(cluster_counts)\n",
    "\n",
    "# Average 30-day volatility in each cluster\n",
    "mean_vol_by_cluster = df.groupby('cluster')['vol_30d'].mean()\n",
    "print(\"\\nAverage 30-day volatility in each cluster:\")\n",
    "print(mean_vol_by_cluster)"
   ]
  },
  {
   "cell_type": "code",
   "execution_count": 22,
   "id": "a83eb326-cfbb-466d-8288-2311c6b22829",
   "metadata": {},
   "outputs": [
    {
     "data": {
      "image/png": "[encoded data removed]",
      "text/plain": [
       "<Figure size 1000x500 with 1 Axes>"
      ]
     },
     "metadata": {},
     "output_type": "display_data"
    }
   ],
   "source": [
    "# Plot the Volatility, Colored by Cluster\n",
    "\n",
    "# Create a color map for the 3 clusters\n",
    "cluster_colors = {0: 'blue', 1: 'green', 2: 'red'}\n",
    "\n",
    "# Map each cluster label to a color\n",
    "colors = df['cluster'].map(cluster_colors)\n",
    "\n",
    "plt.figure(figsize=(10, 5))\n",
    "plt.scatter(df.index, df['vol_30d'], c=colors, alpha=0.6, s=10)\n",
    "plt.title('30-Day SPX Volatility, Colored by Cluster (k=3)')\n",
    "plt.xlabel('Date')\n",
    "plt.ylabel('Volatility (30-day rolling std)')\n",
    "plt.xticks(rotation=45)\n",
    "plt.tight_layout()\n",
    "plt.show()"
   ]
  },
  {
   "cell_type": "code",
   "execution_count": 25,
   "id": "f9d2bcc2-34d9-4bf0-b9e9-351edfb45dbf",
   "metadata": {},
   "outputs": [
    {
     "name": "stdout",
     "output_type": "stream",
     "text": [
      "\n",
      "Transition counts from one cluster to the next:\n",
      "cluster_next  0.0   1.0  2.0\n",
      "cluster                     \n",
      "0              36     0    1\n",
      "1               0  1605   25\n",
      "2               1    25  805\n"
     ]
    }
   ],
   "source": [
    "# Transition Analysis \n",
    "\n",
    "# This shows how volatility moves from cluster to cluster day to day.\n",
    "df['cluster_next'] = df['cluster'].shift(-1)\n",
    "df.dropna(subset=['cluster_next'], inplace=True)\n",
    "\n",
    "transition_counts = pd.crosstab(df['cluster'], df['cluster_next'])\n",
    "print(\"\\nTransition counts from one cluster to the next:\")\n",
    "print(transition_counts)"
   ]
  },
  {
   "cell_type": "code",
   "execution_count": 26,
   "id": "1c190985-999b-4b82-adbb-cb5b3e91d0a0",
   "metadata": {},
   "outputs": [
    {
     "name": "stdout",
     "output_type": "stream",
     "text": [
      "Transition probabilities (in %):\n",
      "cluster_next    0.0    1.0    2.0\n",
      "cluster                          \n",
      "0             97.30   0.00   2.70\n",
      "1              0.00  98.47   1.53\n",
      "2              0.12   3.01  96.87\n"
     ]
    }
   ],
   "source": [
    "transition_probs = transition_counts.div(transition_counts.sum(axis=1), axis=0)\n",
    "# Multiply by 100 to convert to percentage.\n",
    "transition_probs_percentage = transition_probs * 100\n",
    "transition_probs_percentage = transition_probs_percentage.round(2)\n",
    "\n",
    "print(\"Transition probabilities (in %):\")\n",
    "print(transition_probs_percentage)"
   ]
  },
  {
   "cell_type": "markdown",
   "id": "f168fa1b-f874-44ec-80e1-b3c47e71d599",
   "metadata": {},
   "source": [
    "We interpret this as, for example, the probability of jumping from Cluster 1 to Cluster 2 is $1.53\\%$ every $30$ days."
   ]
  },
  {
   "cell_type": "code",
   "execution_count": null,
   "id": "dd403efd-74e2-473b-b149-d4aef225049f",
   "metadata": {},
   "outputs": [],
   "source": []
  }
 ],
 "metadata": {
  "kernelspec": {
   "display_name": "Python 3 (ipykernel)",
   "language": "python",
   "name": "python3"
  },
  "language_info": {
   "codemirror_mode": {
    "name": "ipython",
    "version": 3
   },
   "file_extension": ".py",
   "mimetype": "text/x-python",
   "name": "python",
   "nbconvert_exporter": "python",
   "pygments_lexer": "ipython3",
   "version": "3.11.5"
  }
 },
 "nbformat": 4,
 "nbformat_minor": 5
}
