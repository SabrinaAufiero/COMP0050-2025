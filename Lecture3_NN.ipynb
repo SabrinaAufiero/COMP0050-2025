{
 "cells": [
  {
   "cell_type": "markdown",
   "id": "683c7f27-08eb-4157-b553-f61625970bf2",
   "metadata": {},
   "source": [
    "#### Supervised Learning:\n",
    "\n",
    "You have labeled data (the known option prices for given stock prices and times to maturity) that you use to train your model. \n",
    "\n",
    "The model then learns to predict the option prices (the target variable) based on the input features. \n",
    "\n",
    "There are different types of neural network architectures: feedforward neural networks, convolutional neural networks, recurrent neural networks, LSTM, Transformers, ...\n",
    "\n",
    "\n",
    "#### Multi-layer Perceptron Regressor (MLPRegressor): \n",
    "\n",
    "MLPRegressor is a type of artificial neural network used for regression tasks within the scikit-learn library in Python. It is used to model and predict continuous target values, as opposed to categorical labels.\n",
    "\n",
    "It provides a high degree of accuracy and can handle complex, non-linear datasets, using backpropagation to adjust the weights between neurons in order to improve prediction accuracy. It includes several parameters that can be used to fine-tune the model’s performance including number of hidden layers, activation functions, solvers (for optimization), etc.  \n",
    "\n",
    "One of the main advantages of using MLPRegressor over other regression algorithms is its ability to handle data with large numbers of features or inputs. While other regression models may struggle with datasets containing hundreds or thousands of features, MLPRegressor can quickly learn the patterns and provide accurate predictions. This makes it ideal for applications such as predicting stock prices, sales figures and customer satisfaction ratings.\n",
    "\n",
    "Another major limitation of MLPRegressor is its propensity for overfitting. Since this type of algorithm works by building complex nonlinear relationships between inputs and outputs, it can be prone to memorizing the training data which leads to poor generalization on unseen data."
   ]
  },
  {
   "cell_type": "code",
   "execution_count": 12,
   "id": "6200057a-2a41-40a8-a889-e89a29ccb759",
   "metadata": {},
   "outputs": [],
   "source": [
    "import time\n",
    "import math\n",
    "import numpy as np\n",
    "import pandas as pd\n",
    "import matplotlib.pyplot as plt\n",
    "from scipy.stats import norm\n",
    "\n",
    "from sklearn.preprocessing import MinMaxScaler\n",
    "from sklearn.metrics import mean_squared_error, mean_absolute_error, r2_score\n",
    "\n",
    "import torch\n",
    "import torch.nn as nn\n",
    "import torch.optim as optim"
   ]
  },
  {
   "cell_type": "code",
   "execution_count": 13,
   "id": "23ba6fa5-3caf-41e4-a4f8-aaeca99622c6",
   "metadata": {},
   "outputs": [
    {
     "name": "stdout",
     "output_type": "stream",
     "text": [
      "Using device: cpu\n"
     ]
    }
   ],
   "source": [
    "device = torch.device(\"cuda\" if torch.cuda.is_available() else \"cpu\")\n",
    "print(f\"Using device: {device}\")"
   ]
  },
  {
   "cell_type": "code",
   "execution_count": 14,
   "id": "5e94b311-15ae-42cd-973e-4b3afb4dcad7",
   "metadata": {},
   "outputs": [],
   "source": [
    "# Define the Black-Scholes Formula\n",
    "\n",
    "def black_scholes_call(S, K, T, r, sigma):\n",
    "    \"\"\"\n",
    "    Compute the European call option price using the Black-Scholes formula.\n",
    "    \n",
    "    Parameters:\n",
    "        S (float): Underlying asset price\n",
    "        K (float): Strike price\n",
    "        T (float): Time to maturity\n",
    "        r (float): Risk-free interest rate\n",
    "        sigma (float): Volatility of the underlying asset\n",
    "    \n",
    "    Returns:\n",
    "        float: The Black-Scholes price for the call option\n",
    "    \"\"\"\n",
    "    # Calculate d1 and d2 using the Black-Scholes formula components\n",
    "    d1 = (np.log(S / K) + (r + 0.5 * sigma**2) * T) / (sigma * np.sqrt(T))\n",
    "    d2 = d1 - sigma * np.sqrt(T)\n",
    "    # Compute the call option price\n",
    "    call_price = S * norm.cdf(d1) - K * np.exp(-r * T) * norm.cdf(d2)\n",
    "    return call_price"
   ]
  },
  {
   "cell_type": "code",
   "execution_count": 15,
   "id": "60d41af4-ec30-4597-b252-c9f7d435c124",
   "metadata": {},
   "outputs": [],
   "source": [
    "# Generate Synthetic Dataset Using Black-Scholes\n",
    "\n",
    "def generate_dataset(n_samples):\n",
    "    \"\"\"\n",
    "    Generate synthetic data for option pricing.\n",
    "    \n",
    "    Features: [S, K, T, r, sigma]\n",
    "    Label: Call option price computed from the Black-Scholes formula.\n",
    "    \"\"\"\n",
    "    # Randomly generate parameters within realistic ranges\n",
    "    S = np.random.uniform(50, 150, n_samples)      # Underlying asset prices\n",
    "    K = np.random.uniform(50, 150, n_samples)      # Strike prices\n",
    "    T = np.random.uniform(0.1, 2, n_samples)         # Time to maturity (in years)\n",
    "    r = np.random.uniform(0.01, 0.05, n_samples)     # Interest rates\n",
    "    sigma = np.random.uniform(0.1, 0.5, n_samples)   # Volatility values\n",
    "    \n",
    "    # Compute the call option price for each sample using Black-Scholes\n",
    "    call_prices = black_scholes_call(S, K, T, r, sigma)\n",
    "    \n",
    "    # Stack features together (each row corresponds to one sample)\n",
    "    X = np.stack([S, K, T, r, sigma], axis=1)\n",
    "    y = call_prices.reshape(-1, 1)  # Reshape to be a column vector\n",
    "    return X, y"
   ]
  },
  {
   "cell_type": "code",
   "execution_count": null,
   "id": "66bcc359-1039-4b4b-8eec-d13cc5be3509",
   "metadata": {},
   "outputs": [],
   "source": []
  },
  {
   "cell_type": "markdown",
   "id": "93995227-e4b4-4f8a-af0e-d2c72ecceb1c",
   "metadata": {},
   "source": [
    "# First Proxy of a NN"
   ]
  },
  {
   "cell_type": "code",
   "execution_count": 16,
   "id": "862241b6-f047-4006-a669-67d70e915fb5",
   "metadata": {},
   "outputs": [],
   "source": [
    "# Define Neural Network Architectures with PyTorch Classes\n",
    "\n",
    "# Simple MLP Model\n",
    "class MLP(nn.Module):\n",
    "    def __init__(self, input_dim):\n",
    "        \"\"\"\n",
    "        A simple multi-layer perceptron with one hidden layer structure.\n",
    "        \"\"\"\n",
    "        super(MLP, self).__init__()\n",
    "        self.model = nn.Sequential(\n",
    "            nn.Linear(input_dim, 100),  # Input layer to first hidden layer\n",
    "            nn.ReLU(),                  # Activation function\n",
    "            nn.Linear(100, 60),         # Second hidden layer\n",
    "            nn.ReLU(),                  # Activation function\n",
    "            nn.Linear(60, 1)            # Output layer (predicts option price)\n",
    "        )\n",
    "\n",
    "    def forward(self, x):\n",
    "        return self.model(x)\n",
    "\n",
    "\n",
    "# Deeper MLP Model (more layers/neurons)\n",
    "class MLP_Deep(nn.Module):\n",
    "    def __init__(self, input_dim):\n",
    "        \"\"\"\n",
    "        A deeper MLP with additional layers to potentially capture more complex relationships.\n",
    "        \"\"\"\n",
    "        super(MLP_Deep, self).__init__()\n",
    "        self.model = nn.Sequential(\n",
    "            nn.Linear(input_dim, 128),\n",
    "            nn.ReLU(),\n",
    "            nn.Linear(128, 128),\n",
    "            nn.ReLU(),\n",
    "            nn.Linear(128, 64),\n",
    "            nn.ReLU(),\n",
    "            nn.Linear(64, 1)\n",
    "        )\n",
    "\n",
    "    def forward(self, x):\n",
    "        return self.model(x)"
   ]
  },
  {
   "cell_type": "code",
   "execution_count": 17,
   "id": "ab54b658-a3d8-48c8-b6d4-ef85678b8e1a",
   "metadata": {},
   "outputs": [],
   "source": [
    "# Define a Monte Carlo Pricing Function for European Call Options\n",
    "\n",
    "def monte_carlo_pricing(S, K, T, r, sigma, n_simulations=1000):\n",
    "    \"\"\"\n",
    "    Price a European call option using Monte Carlo simulation.\n",
    "    \n",
    "    This function simulates n_simulations random asset paths and computes the discounted average payoff.\n",
    "    \"\"\"\n",
    "    start_time = time.time()\n",
    "    \n",
    "    # Generate random draws from a standard normal distribution\n",
    "    Z = np.random.standard_normal(n_simulations)\n",
    "    # Simulate asset price at maturity T\n",
    "    ST = S * np.exp((r - 0.5 * sigma**2) * T + sigma * np.sqrt(T) * Z)\n",
    "    # Compute the payoff for a call option: max(ST - K, 0)\n",
    "    payoffs = np.maximum(ST - K, 0)\n",
    "    # Discount back to present value\n",
    "    price = np.exp(-r * T) * np.mean(payoffs)\n",
    "    \n",
    "    end_time = time.time()\n",
    "    return price, end_time - start_time"
   ]
  },
  {
   "cell_type": "code",
   "execution_count": 18,
   "id": "57047acc-814b-4259-b752-ac7ead6bcbb6",
   "metadata": {},
   "outputs": [],
   "source": [
    "# Define a Neural Network Pricing Function (Forward Pass)\n",
    "\n",
    "def neural_network_pricing(model, input_data):\n",
    "    \"\"\"\n",
    "    Use a trained neural network to perform a forward pass and obtain a pricing prediction.\n",
    "    Measures the time taken for inference.\n",
    "    \"\"\"\n",
    "    start_time = time.time()\n",
    "    # Ensure the model is in evaluation mode and no gradients are computed\n",
    "    with torch.no_grad():\n",
    "        price = model(input_data)\n",
    "    end_time = time.time()\n",
    "    return price, end_time - start_time"
   ]
  },
  {
   "cell_type": "code",
   "execution_count": 19,
   "id": "99468e26-f5cb-4869-931f-6cd46a618005",
   "metadata": {},
   "outputs": [],
   "source": [
    "# Training Function for the Neural Networks\n",
    "\n",
    "def train_model(model, X_train, y_train, n_epochs=500, learning_rate=1e-3, loss_fn=nn.MSELoss()):\n",
    "    \"\"\"\n",
    "    Train the given PyTorch model on training data.\n",
    "    \n",
    "    Parameters:\n",
    "        model: PyTorch model to train\n",
    "        X_train: Input features (numpy array)\n",
    "        y_train: Target values (numpy array)\n",
    "        n_epochs: Number of epochs for training\n",
    "        learning_rate: Learning rate for the optimizer\n",
    "        loss_fn: Loss function (e.g., MSELoss or L1Loss)\n",
    "    \"\"\"\n",
    "    # Convert numpy arrays to torch tensors\n",
    "    X_train_tensor = torch.from_numpy(X_train).float()\n",
    "    y_train_tensor = torch.from_numpy(y_train).float()\n",
    "    \n",
    "    # Use Adam optimizer\n",
    "    optimizer = optim.Adam(model.parameters(), lr=learning_rate)\n",
    "    \n",
    "    # Training loop\n",
    "    for epoch in range(n_epochs):\n",
    "        model.train()  # Set the model to training mode\n",
    "        optimizer.zero_grad()  # Zero the gradients\n",
    "        \n",
    "        # Forward pass\n",
    "        predictions = model(X_train_tensor)\n",
    "        # Compute loss\n",
    "        loss = loss_fn(predictions, y_train_tensor)\n",
    "        # Backward pass\n",
    "        loss.backward() #IMPORTANT! HERE WE UPDATE THE WEIGHTS OF THE NETWORK\n",
    "        # Update weights\n",
    "        optimizer.step()\n",
    "        \n",
    "        # Print the loss every 50 epochs for monitoring\n",
    "        if (epoch + 1) % 50 == 0:\n",
    "            print(f\"Epoch {epoch + 1}/{n_epochs}, Loss: {loss.item():.6f}\")\n",
    "    \n",
    "    return model"
   ]
  },
  {
   "cell_type": "code",
   "execution_count": null,
   "id": "2f83d6ae-a6f7-43e3-a18d-4f0b6d36e3a5",
   "metadata": {},
   "outputs": [],
   "source": []
  },
  {
   "cell_type": "code",
   "execution_count": 24,
   "id": "1a2bc000-22b5-4ada-ab92-e7d762bbf200",
   "metadata": {},
   "outputs": [],
   "source": [
    "# Set seeds for reproducibility\n",
    "np.random.seed(42)\n",
    "torch.manual_seed(42)\n",
    "\n",
    "# Generate synthetic dataset (e.g., 1,000,000 samples)\n",
    "n_samples = 1000\n",
    "X, y = generate_dataset(n_samples)"
   ]
  },
  {
   "cell_type": "code",
   "execution_count": 21,
   "id": "1508fab6-cd93-4144-9569-46ccaf15626e",
   "metadata": {},
   "outputs": [],
   "source": [
    "# Split dataset into training (80%) and testing (20%) sets\n",
    "train_size = int(0.8 * n_samples)\n",
    "X_train, y_train = X[:train_size], y[:train_size]\n",
    "X_test, y_test = X[train_size:], y[train_size:]"
   ]
  },
  {
   "cell_type": "code",
   "execution_count": 22,
   "id": "71da17d2-9cea-406d-8dde-389ea3b3ad76",
   "metadata": {},
   "outputs": [
    {
     "name": "stdout",
     "output_type": "stream",
     "text": [
      "5\n"
     ]
    }
   ],
   "source": [
    "# Determine the number of input features (S, K, T, r, sigma)\n",
    "input_dim = X.shape[1]\n",
    "print(input_dim)"
   ]
  },
  {
   "cell_type": "code",
   "execution_count": 23,
   "id": "4e6ac845-1f97-4f67-9bf2-a089777de3ad",
   "metadata": {},
   "outputs": [
    {
     "name": "stdout",
     "output_type": "stream",
     "text": [
      "Training Simple MLP Model:\n",
      "Epoch 50/500, Loss: 62.454136\n",
      "Epoch 100/500, Loss: 19.709623\n",
      "Epoch 150/500, Loss: 17.783541\n",
      "Epoch 200/500, Loss: 17.170671\n",
      "Epoch 250/500, Loss: 16.703217\n",
      "Epoch 300/500, Loss: 16.246336\n",
      "Epoch 350/500, Loss: 15.775196\n",
      "Epoch 400/500, Loss: 15.276607\n",
      "Epoch 450/500, Loss: 14.606942\n",
      "Epoch 500/500, Loss: 13.172866\n"
     ]
    }
   ],
   "source": [
    "# Train the Simple MLP Model\n",
    "\n",
    "print(\"Training Simple MLP Model:\")\n",
    "model_simple = MLP(input_dim=input_dim)\n",
    "model_simple = train_model(model_simple, X_train, y_train, n_epochs=500, learning_rate=1e-3, loss_fn=nn.MSELoss())"
   ]
  },
  {
   "cell_type": "markdown",
   "id": "a5825b0d-00ce-4315-8ead-0bccbe750fde",
   "metadata": {},
   "source": [
    "$\\textcolor{red}{:(}$"
   ]
  },
  {
   "cell_type": "markdown",
   "id": "880b7326-65bd-4cde-9ba1-6ef82005c278",
   "metadata": {},
   "source": [
    "$\\textcolor{red}{?}$"
   ]
  },
  {
   "cell_type": "code",
   "execution_count": 25,
   "id": "1128171c-2ca3-4e1b-a9a1-ee42525c933d",
   "metadata": {},
   "outputs": [
    {
     "name": "stdout",
     "output_type": "stream",
     "text": [
      "[[8.74540119e+01 8.73640818e+01 1.48699679e+00 3.55257827e-02\n",
      "  2.19564816e-01]\n",
      " [1.45071431e+02 8.32912096e+01 4.50572792e-01 2.83716981e-02\n",
      "  1.37927110e-01]\n",
      " [1.23199394e+02 6.76153913e+01 7.58615419e-01 4.85799410e-02\n",
      "  1.50543690e-01]\n",
      " ...\n",
      " [9.55328750e+01 1.22569185e+02 6.37456150e-01 3.43724529e-02\n",
      "  3.07302580e-01]\n",
      " [1.40843755e+02 1.19203070e+02 1.65530467e-01 3.85345089e-02\n",
      "  1.34986822e-01]\n",
      " [6.04480317e+01 1.32153986e+02 3.08875683e-01 2.89779562e-02\n",
      "  2.34822396e-01]]\n"
     ]
    }
   ],
   "source": [
    "print(X_train)"
   ]
  },
  {
   "cell_type": "markdown",
   "id": "7fdd4324-7127-4aca-b7e5-178f87678878",
   "metadata": {},
   "source": [
    "Asset price (located in position 0 of X_train) and interest rate (position 3 of X_train) differ by four orders of magnitude, meaning that the asset prices are roughly 10,000 times larger than the interest rates."
   ]
  },
  {
   "cell_type": "code",
   "execution_count": 26,
   "id": "a16bca0c-bf9c-44b7-b04b-a99c9c5832dc",
   "metadata": {},
   "outputs": [],
   "source": [
    "scaler = MinMaxScaler()\n",
    "X_train = scaler.fit_transform(X_train)  \n",
    "X_test = scaler.transform(X_test)      \n",
    "y_train = scaler.fit_transform(y_train)  \n",
    "y_test = scaler.transform(y_test) "
   ]
  },
  {
   "cell_type": "code",
   "execution_count": 27,
   "id": "12d5555a-fdbd-45b7-be50-9beab2603c9b",
   "metadata": {},
   "outputs": [
    {
     "name": "stdout",
     "output_type": "stream",
     "text": [
      "[[0.37463861 0.37357008 0.73005761 0.638277   0.29890863]\n",
      " [0.95098222 0.33283187 0.18449102 0.45938622 0.09480527]\n",
      " [0.73219754 0.17603717 0.34664258 0.96470152 0.12634812]\n",
      " ...\n",
      " [0.455451   0.72570313 0.28286516 0.60943753 0.51826282]\n",
      " [0.90869303 0.69203414 0.03444666 0.71351142 0.08745422]\n",
      " [0.1044994  0.82157348 0.10990262 0.47454595 0.33705428]]\n"
     ]
    }
   ],
   "source": [
    "print(X_train)"
   ]
  },
  {
   "cell_type": "code",
   "execution_count": 28,
   "id": "e4694443-6dcd-48f7-9c54-7e1018514ac1",
   "metadata": {},
   "outputs": [
    {
     "name": "stdout",
     "output_type": "stream",
     "text": [
      "Training Simple MLP Model:\n",
      "Epoch 50/500, Loss: 0.002769\n",
      "Epoch 100/500, Loss: 0.000384\n",
      "Epoch 150/500, Loss: 0.000172\n",
      "Epoch 200/500, Loss: 0.000107\n",
      "Epoch 250/500, Loss: 0.000079\n",
      "Epoch 300/500, Loss: 0.000063\n",
      "Epoch 350/500, Loss: 0.000052\n",
      "Epoch 400/500, Loss: 0.000043\n",
      "Epoch 450/500, Loss: 0.000037\n",
      "Epoch 500/500, Loss: 0.000032\n"
     ]
    }
   ],
   "source": [
    "# Train the Simple MLP Model\n",
    "\n",
    "print(\"Training Simple MLP Model:\")\n",
    "model_simple = MLP(input_dim=input_dim)\n",
    "model_simple = train_model(model_simple, X_train, y_train, n_epochs=500, learning_rate=1e-3, loss_fn=nn.MSELoss())"
   ]
  },
  {
   "cell_type": "markdown",
   "id": "da72aaeb-c502-4167-9e43-80c896d608b4",
   "metadata": {},
   "source": [
    "If some features have very large values while others are small, the gradients can become unbalanced, causing the optimization process to be inefficient or unstable. Normalization helps to maintain consistent gradient magnitudes, which improves the training dynamics.\n",
    "\n",
    "Neural networks are sensitive to the scale of the input data. When the data is normalized, the numerical computations (especially during backpropagation) are more stable, which can lead to better overall performance.\n",
    "\n",
    "With normalized data, the initial random weights are more likely to be in a range that leads to productive learning, rather than being overwhelmed by large or small values from the raw data."
   ]
  },
  {
   "cell_type": "code",
   "execution_count": 29,
   "id": "27fe9ed2-dea7-4129-a6a2-526931e52f9d",
   "metadata": {},
   "outputs": [
    {
     "name": "stdout",
     "output_type": "stream",
     "text": [
      "\n",
      "Training Deep MLP Model:\n",
      "Epoch 50/500, Loss: 0.000722\n",
      "Epoch 100/500, Loss: 0.000110\n",
      "Epoch 150/500, Loss: 0.000055\n",
      "Epoch 200/500, Loss: 0.000038\n",
      "Epoch 250/500, Loss: 0.000028\n",
      "Epoch 300/500, Loss: 0.000022\n",
      "Epoch 350/500, Loss: 0.000019\n",
      "Epoch 400/500, Loss: 0.000016\n",
      "Epoch 450/500, Loss: 0.000014\n",
      "Epoch 500/500, Loss: 0.000013\n"
     ]
    }
   ],
   "source": [
    "# Train the Deep MLP Model\n",
    "\n",
    "print(\"\\nTraining Deep MLP Model:\")\n",
    "model_deep = MLP_Deep(input_dim=input_dim)\n",
    "model_deep = train_model(model_deep, X_train, y_train, n_epochs=500, learning_rate=1e-3, loss_fn=nn.MSELoss())"
   ]
  },
  {
   "cell_type": "code",
   "execution_count": 30,
   "id": "148ca93a-62c2-486f-a4fd-6b3ef697f7e0",
   "metadata": {},
   "outputs": [],
   "source": [
    "# Evaluate the Models on the Test Set\n",
    "\n",
    "X_test_tensor = torch.from_numpy(X_test).float()\n",
    "model_simple.eval()\n",
    "model_deep.eval()\n",
    "with torch.no_grad():\n",
    "    predictions_simple = model_simple(X_test_tensor)\n",
    "    predictions_deep = model_deep(X_test_tensor)"
   ]
  },
  {
   "cell_type": "code",
   "execution_count": 31,
   "id": "f18841b3-85a8-4005-b36d-977dcd6934b9",
   "metadata": {},
   "outputs": [
    {
     "name": "stdout",
     "output_type": "stream",
     "text": [
      "\n",
      "Example predictions (Simple MLP):\n",
      "tensor([[ 0.2716],\n",
      "        [ 0.3097],\n",
      "        [-0.0025],\n",
      "        [ 0.3483],\n",
      "        [ 0.0573]])\n",
      "\n",
      "Example predictions (Deep MLP):\n",
      "tensor([[0.2797],\n",
      "        [0.3091],\n",
      "        [0.0007],\n",
      "        [0.3627],\n",
      "        [0.0615]])\n"
     ]
    }
   ],
   "source": [
    "# Display example predictions from each model\n",
    "print(\"\\nExample predictions (Simple MLP):\")\n",
    "print(predictions_simple[:5])\n",
    "\n",
    "print(\"\\nExample predictions (Deep MLP):\")\n",
    "print(predictions_deep[:5])"
   ]
  },
  {
   "cell_type": "code",
   "execution_count": null,
   "id": "e9b25a46-b247-47f7-87b0-3ea1a7332bca",
   "metadata": {},
   "outputs": [],
   "source": []
  },
  {
   "cell_type": "code",
   "execution_count": 32,
   "id": "484901bc-a823-42b7-9926-cb13def21845",
   "metadata": {},
   "outputs": [],
   "source": [
    "# Benchmark: Monte Carlo Simulation vs Neural Network Inference\n",
    "\n",
    "# Define example option parameters\n",
    "S_example = 100      # Underlying asset price\n",
    "K_example = 100      # Strike price\n",
    "T_example = 1        # Time to maturity (1 year)\n",
    "r_example = 0.05     # Interest rate\n",
    "sigma_example = 0.2  # Volatility"
   ]
  },
  {
   "cell_type": "code",
   "execution_count": 33,
   "id": "d385a04d-3aaa-4d40-9c63-3544cc5f9cef",
   "metadata": {},
   "outputs": [
    {
     "name": "stdout",
     "output_type": "stream",
     "text": [
      "\n",
      "Benchmarking Results:\n",
      "           Method      Price  Time (seconds)\n",
      "0     Monte Carlo  10.435080        0.051805\n",
      "1  Neural Network  18.609673        0.000126\n"
     ]
    }
   ],
   "source": [
    "# Create a single sample input for NN pricing (matching the feature order)\n",
    "sample_input = torch.tensor([[S_example, K_example, T_example, r_example, sigma_example]], dtype=torch.float)\n",
    "\n",
    "# Price using Monte Carlo simulation\n",
    "mc_price, mc_time = monte_carlo_pricing(S_example, K_example, T_example, r_example, sigma_example, n_simulations=1000000)\n",
    "\n",
    "# Price using Neural Network (using the simple MLP for demonstration)\n",
    "nn_price, nn_time = neural_network_pricing(model_simple, sample_input)\n",
    "\n",
    "# Create a DataFrame to display benchmarking results\n",
    "results = pd.DataFrame({\n",
    "    \"Method\": [\"Monte Carlo\", \"Neural Network\"],\n",
    "    \"Price\": [mc_price, nn_price.item()],\n",
    "    \"Time (seconds)\": [mc_time, nn_time]\n",
    "})\n",
    "\n",
    "print(\"\\nBenchmarking Results:\")\n",
    "print(results)"
   ]
  },
  {
   "cell_type": "code",
   "execution_count": 34,
   "id": "f92c543c-c179-4f52-b476-387e9d8ed4fa",
   "metadata": {},
   "outputs": [
    {
     "data": {
      "image/png": "[encoded data removed]",
      "text/plain": [
       "<Figure size 800x600 with 1 Axes>"
      ]
     },
     "metadata": {},
     "output_type": "display_data"
    }
   ],
   "source": [
    "# Plot: True vs Predicted Option Prices for the Simple MLP\n",
    "\n",
    "plt.figure(figsize=(8, 6))\n",
    "plt.scatter(y_test, predictions_simple.numpy(), alpha=0.5, label=\"Predictions\")\n",
    "plt.xlabel(\"True Black-Scholes Price\")\n",
    "plt.ylabel(\"Predicted Price (Simple MLP)\")\n",
    "plt.title(\"True vs Predicted Option Prices\")\n",
    "# Plot a diagonal line for perfect predictions\n",
    "plt.plot([y_test.min(), y_test.max()], [y_test.min(), y_test.max()], color='red', label=\"Ideal\")\n",
    "plt.legend()\n",
    "plt.show()\n"
   ]
  },
  {
   "cell_type": "code",
   "execution_count": null,
   "id": "32a79489-d7ae-4b0d-93e3-e571ecc7380d",
   "metadata": {},
   "outputs": [],
   "source": []
  },
  {
   "cell_type": "markdown",
   "id": "3b13bf71-9036-4039-bf69-7048e0201ec9",
   "metadata": {},
   "source": [
    "# Validation of our proxy."
   ]
  },
  {
   "cell_type": "code",
   "execution_count": 35,
   "id": "682874f0-0c3b-4beb-8cb0-c953cb1fe52a",
   "metadata": {},
   "outputs": [],
   "source": [
    "def create_model(num_layers, hidden_neurons, activation, input_dim):\n",
    "    \"\"\"\n",
    "    Build an MLP model with a specified number of hidden layers, neurons per layer, and activation function.\n",
    "    \n",
    "    Parameters:\n",
    "        num_layers (int): Number of hidden layers.\n",
    "        hidden_neurons (int): Neurons per hidden layer.\n",
    "        activation (callable): Activation function class (e.g., nn.ReLU).\n",
    "        input_dim (int): Dimension of the input features.\n",
    "    \n",
    "    Returns:\n",
    "        nn.Sequential: Constructed neural network.\n",
    "    \"\"\"\n",
    "    layers = []\n",
    "    # Input layer to first hidden layer\n",
    "    layers.append(nn.Linear(input_dim, hidden_neurons))\n",
    "    layers.append(activation())\n",
    "    # Add additional hidden layers if needed\n",
    "    for _ in range(num_layers - 1):\n",
    "        layers.append(nn.Linear(hidden_neurons, hidden_neurons))\n",
    "        layers.append(activation())\n",
    "    # Output layer\n",
    "    layers.append(nn.Linear(hidden_neurons, 1))\n",
    "    return nn.Sequential(*layers)"
   ]
  },
  {
   "cell_type": "code",
   "execution_count": 36,
   "id": "c37fbde0-7990-45d8-8c4f-c533e79b9f9d",
   "metadata": {},
   "outputs": [],
   "source": [
    "def train_and_evaluate(model, X_train, y_train, X_test, y_test, n_epochs=300, learning_rate=1e-3, loss_fn=nn.MSELoss()):\n",
    "    \"\"\"\n",
    "    Train the model and return the test set Mean Squared Error (MSE).\n",
    "    \n",
    "    Parameters:\n",
    "        model: PyTorch model to train.\n",
    "        X_train, y_train: Training features and labels.\n",
    "        X_test, y_test: Testing features and labels.\n",
    "        n_epochs (int): Number of training epochs.\n",
    "        learning_rate (float): Learning rate for the optimizer.\n",
    "        loss_fn: Loss function to optimize.\n",
    "    \n",
    "    Returns:\n",
    "        mse (float): Test MSE after training.\n",
    "    \"\"\"\n",
    "    # Convert numpy arrays to torch tensors\n",
    "    X_train_tensor = torch.from_numpy(X_train).float()\n",
    "    y_train_tensor = torch.from_numpy(y_train).float()\n",
    "    X_test_tensor = torch.from_numpy(X_test).float()\n",
    "    y_test_tensor = torch.from_numpy(y_test).float()\n",
    "    \n",
    "    optimizer = optim.Adam(model.parameters(), lr=learning_rate)\n",
    "    \n",
    "    # Training loop\n",
    "    for epoch in range(n_epochs):\n",
    "        model.train()\n",
    "        optimizer.zero_grad()\n",
    "        predictions = model(X_train_tensor)\n",
    "        loss = loss_fn(predictions, y_train_tensor)\n",
    "        loss.backward()\n",
    "        optimizer.step()\n",
    "    \n",
    "    # Evaluation on the test set\n",
    "    model.eval()\n",
    "    with torch.no_grad():\n",
    "        test_predictions = model(X_test_tensor)\n",
    "        mse = nn.MSELoss()(test_predictions, y_test_tensor).item()\n",
    "    return mse"
   ]
  },
  {
   "cell_type": "code",
   "execution_count": 37,
   "id": "a39843bf-7a12-43c4-b884-7787f9740b3e",
   "metadata": {},
   "outputs": [],
   "source": [
    "# Prepare Data & Set Random Seed\n",
    "\n",
    "np.random.seed(42)\n",
    "torch.manual_seed(42)\n",
    "\n",
    "n_samples = 5000\n",
    "X, y = generate_dataset(n_samples)\n",
    "train_size = int(0.8 * n_samples)\n",
    "X_train, y_train = X[:train_size], y[:train_size]\n",
    "X_test, y_test = X[train_size:], y[train_size:]\n",
    "input_dim = X.shape[1]  # Should be 5: [S, K, T, r, sigma]"
   ]
  },
  {
   "cell_type": "code",
   "execution_count": 38,
   "id": "d6f0285c-54bf-4940-9b9a-a2189fddc3f8",
   "metadata": {},
   "outputs": [
    {
     "name": "stdout",
     "output_type": "stream",
     "text": [
      "\n",
      "--- Experiment 1: Number of Neurons ---\n",
      "Neurons: 10, Test MSE: 23.293184\n",
      "Neurons: 20, Test MSE: 18.120758\n",
      "Neurons: 50, Test MSE: 16.369194\n",
      "Neurons: 100, Test MSE: 17.037249\n",
      "Neurons: 200, Test MSE: 13.013991\n",
      "Best number of neurons: 200 (MSE: 13.013991)\n"
     ]
    }
   ],
   "source": [
    "# Experiment 1: Optimal Number of Neurons\n",
    "\n",
    "print(\"\\n--- Experiment 1: Number of Neurons ---\")\n",
    "neuron_counts = [10, 20, 50, 100, 200]\n",
    "best_mse_neurons = float('inf')\n",
    "best_neurons = None\n",
    "\n",
    "# We fix the number of layers (e.g., 2) for this experiment.\n",
    "for neurons in neuron_counts:\n",
    "    model = create_model(num_layers=2, hidden_neurons=neurons, activation=nn.ReLU, input_dim=input_dim)\n",
    "    mse = train_and_evaluate(model, X_train, y_train, X_test, y_test, n_epochs=500, learning_rate=1e-3, loss_fn=nn.MSELoss())\n",
    "    print(f\"Neurons: {neurons}, Test MSE: {mse:.6f}\")\n",
    "    if mse < best_mse_neurons:\n",
    "        best_mse_neurons = mse\n",
    "        best_neurons = neurons\n",
    "\n",
    "print(f\"Best number of neurons: {best_neurons} (MSE: {best_mse_neurons:.6f})\")"
   ]
  },
  {
   "cell_type": "code",
   "execution_count": 39,
   "id": "f59f3041-286f-4781-91ed-e6934f9608e7",
   "metadata": {},
   "outputs": [
    {
     "name": "stdout",
     "output_type": "stream",
     "text": [
      "\n",
      "--- Experiment 2: Number of Hidden Layers ---\n",
      "Hidden Layers: 1, Test MSE: 16.484848\n",
      "Hidden Layers: 2, Test MSE: 15.944489\n",
      "Hidden Layers: 3, Test MSE: 10.918710\n",
      "Hidden Layers: 4, Test MSE: 11.916767\n",
      "Hidden Layers: 5, Test MSE: 16.061909\n",
      "Best number of hidden layers: 3 (MSE: 10.918710)\n"
     ]
    }
   ],
   "source": [
    "# Experiment 2: Optimal Number of Hidden Layers\n",
    "\n",
    "print(\"\\n--- Experiment 2: Number of Hidden Layers ---\")\n",
    "layer_counts = [1, 2, 3, 4, 5]\n",
    "best_mse_layers = float('inf')\n",
    "best_layers = None\n",
    "# For fairness, fix the number of neurons to a typical value (e.g., 100)\n",
    "for layers in layer_counts:\n",
    "    model = create_model(num_layers=layers, hidden_neurons=100, activation=nn.ReLU, input_dim=input_dim)\n",
    "    mse = train_and_evaluate(model, X_train, y_train, X_test, y_test, n_epochs=500, learning_rate=1e-3, loss_fn=nn.MSELoss())\n",
    "    print(f\"Hidden Layers: {layers}, Test MSE: {mse:.6f}\")\n",
    "    if mse < best_mse_layers:\n",
    "        best_mse_layers = mse\n",
    "        best_layers = layers\n",
    "\n",
    "print(f\"Best number of hidden layers: {best_layers} (MSE: {best_mse_layers:.6f})\")"
   ]
  },
  {
   "cell_type": "code",
   "execution_count": 40,
   "id": "c253862e-f3c7-4aa3-aff5-c6f62c7a1243",
   "metadata": {},
   "outputs": [
    {
     "name": "stdout",
     "output_type": "stream",
     "text": [
      "\n",
      "--- Experiment 3: Loss Functions ---\n",
      "Loss Function: MSELoss, Test MSE: 17.645649\n",
      "Loss Function: L1Loss, Test MSE: 16.940981\n",
      "Loss Function: HuberLoss, Test MSE: 16.240589\n",
      "Best loss function: HuberLoss (MSE: 16.240589)\n"
     ]
    }
   ],
   "source": [
    "# Experiment 3: Optimal Loss Function\n",
    "\n",
    "print(\"\\n--- Experiment 3: Loss Functions ---\")\n",
    "loss_functions = {\n",
    "    \"MSELoss\": nn.MSELoss(),\n",
    "    \"L1Loss\": nn.L1Loss(),\n",
    "    \"HuberLoss\": nn.SmoothL1Loss()  \n",
    "}\n",
    "best_mse_loss = float('inf')\n",
    "best_loss_name = None\n",
    "best_loss_fn = None\n",
    "\n",
    "# Use a fixed architecture: 2 hidden layers, 100 neurons, ReLU\n",
    "for loss_name, loss_fn in loss_functions.items():\n",
    "    model = create_model(num_layers=2, hidden_neurons=100, activation=nn.ReLU, input_dim=input_dim)\n",
    "    mse = train_and_evaluate(model, X_train, y_train, X_test, y_test, n_epochs=300, learning_rate=1e-3, loss_fn=loss_fn)\n",
    "    print(f\"Loss Function: {loss_name}, Test MSE: {mse:.6f}\")\n",
    "    if mse < best_mse_loss:\n",
    "        best_mse_loss = mse\n",
    "        best_loss_name = loss_name\n",
    "        best_loss_fn = loss_fn\n",
    "\n",
    "print(f\"Best loss function: {best_loss_name} (MSE: {best_mse_loss:.6f})\")\n"
   ]
  },
  {
   "cell_type": "code",
   "execution_count": 41,
   "id": "5a45fe55-6469-43ab-ab2a-efe64834cbae",
   "metadata": {},
   "outputs": [
    {
     "name": "stdout",
     "output_type": "stream",
     "text": [
      "\n",
      "--- Experiment 4: Activation Functions ---\n",
      "Activation Function: ReLU, Test MSE: 18.029877\n",
      "Activation Function: Tanh, Test MSE: 263.365295\n",
      "Activation Function: Sigmoid, Test MSE: 362.320496\n",
      "Activation Function: LeakyReLU, Test MSE: 16.945152\n",
      "Best activation function: LeakyReLU (MSE: 16.945152)\n"
     ]
    }
   ],
   "source": [
    "# Experiment 4: Optimal Activation Function\n",
    "\n",
    "print(\"\\n--- Experiment 4: Activation Functions ---\")\n",
    "activations = {\n",
    "    \"ReLU\": nn.ReLU,\n",
    "    \"Tanh\": nn.Tanh,\n",
    "    \"Sigmoid\": nn.Sigmoid,\n",
    "    \"LeakyReLU\": nn.LeakyReLU\n",
    "}\n",
    "best_mse_activation = float('inf')\n",
    "best_activation_name = None\n",
    "best_activation = None\n",
    "\n",
    "# Use a fixed architecture: 2 hidden layers, 100 neurons\n",
    "for act_name, act_fn in activations.items():\n",
    "    model = create_model(num_layers=2, hidden_neurons=100, activation=act_fn, input_dim=input_dim)\n",
    "    mse = train_and_evaluate(model, X_train, y_train, X_test, y_test, n_epochs=300, learning_rate=1e-3, loss_fn=nn.MSELoss())\n",
    "    print(f\"Activation Function: {act_name}, Test MSE: {mse:.6f}\")\n",
    "    if mse < best_mse_activation:\n",
    "        best_mse_activation = mse\n",
    "        best_activation_name = act_name\n",
    "        best_activation = act_fn\n",
    "\n",
    "print(f\"Best activation function: {best_activation_name} (MSE: {best_mse_activation:.6f})\")\n"
   ]
  },
  {
   "cell_type": "code",
   "execution_count": 42,
   "id": "277a63f5-24e9-4739-85ee-1bdfe51d5845",
   "metadata": {},
   "outputs": [
    {
     "name": "stdout",
     "output_type": "stream",
     "text": [
      "\n",
      "--- Best Hyperparameters from All Experiments ---\n",
      "Number of Neurons per Hidden Layer: 200\n",
      "Number of Hidden Layers: 3\n",
      "Loss Function: HuberLoss\n",
      "Activation Function: LeakyReLU\n"
     ]
    }
   ],
   "source": [
    "# Build the Final Model with the Best Hyperparameters\n",
    "\n",
    "# For the final model, we combine:\n",
    "# - Best number of neurons from Experiment 1\n",
    "# - Best number of hidden layers from Experiment 2\n",
    "# - Best loss function from Experiment 3\n",
    "# - Best activation function from Experiment 4\n",
    "\n",
    "final_neurons = best_neurons if best_neurons is not None else 100\n",
    "final_layers = best_layers if best_layers is not None else 2\n",
    "final_loss_fn = best_loss_fn if best_loss_fn is not None else nn.MSELoss()\n",
    "final_activation = best_activation if best_activation is not None else nn.ReLU\n",
    "\n",
    "print(\"\\n--- Best Hyperparameters from All Experiments ---\")\n",
    "print(f\"Number of Neurons per Hidden Layer: {final_neurons}\")\n",
    "print(f\"Number of Hidden Layers: {final_layers}\")\n",
    "print(f\"Loss Function: {best_loss_name}\")\n",
    "print(f\"Activation Function: {best_activation_name}\")\n"
   ]
  },
  {
   "cell_type": "code",
   "execution_count": 43,
   "id": "74cfe3bd-c143-4ee5-9f08-7139c5421059",
   "metadata": {},
   "outputs": [],
   "source": [
    "# Create and train the final model\n",
    "final_model = create_model(num_layers=final_layers, hidden_neurons=final_neurons, activation=final_activation, input_dim=input_dim)\n",
    "# Here we use the best loss function for training.\n",
    "_ = train_and_evaluate(final_model, X_train, y_train, X_test, y_test, n_epochs=500, learning_rate=1e-3, loss_fn=final_loss_fn)"
   ]
  },
  {
   "cell_type": "code",
   "execution_count": 44,
   "id": "dccea4be-88f2-4f4b-a322-0f39d36bb11b",
   "metadata": {},
   "outputs": [
    {
     "name": "stdout",
     "output_type": "stream",
     "text": [
      "\n",
      "--- Final Model Evaluation Metrics ---\n",
      "MSE: 13.775482\n",
      "MAE: 2.418685\n",
      "R²: 0.974418\n"
     ]
    }
   ],
   "source": [
    "# Evaluate the Final Model Using Multiple Metrics\n",
    "\n",
    "final_model.eval()\n",
    "with torch.no_grad():\n",
    "    X_test_tensor = torch.from_numpy(X_test).float()\n",
    "    predictions = final_model(X_test_tensor).numpy()\n",
    "\n",
    "# Compute evaluation metrics\n",
    "\n",
    "# The final evaluation shows multiple metrics:\n",
    "# - MSE (Mean Squared Error) penalizes larger errors more heavily.\n",
    "# - MAE (Mean Absolute Error) gives an interpretable average error.\n",
    "# - R² (Coefficient of Determination) explains the variance captured by the model.\n",
    "\n",
    "mse_final = mean_squared_error(y_test, predictions)\n",
    "mae_final = mean_absolute_error(y_test, predictions)\n",
    "r2_final = r2_score(y_test, predictions)\n",
    "\n",
    "print(\"\\n--- Final Model Evaluation Metrics ---\")\n",
    "print(f\"MSE: {mse_final:.6f}\")\n",
    "print(f\"MAE: {mae_final:.6f}\")\n",
    "print(f\"R²: {r2_final:.6f}\")"
   ]
  },
  {
   "cell_type": "code",
   "execution_count": null,
   "id": "38a2bc05-91f0-431c-8354-c12ba822a516",
   "metadata": {},
   "outputs": [],
   "source": []
  },
  {
   "cell_type": "markdown",
   "id": "2b3701f3-0dac-4a1c-a640-ea18b4ebb53b",
   "metadata": {},
   "source": [
    "# The $\\textit{best}$ model."
   ]
  },
  {
   "cell_type": "markdown",
   "id": "550a29af-6b06-4aec-b9f1-2421aaa341e0",
   "metadata": {},
   "source": [
    "For robust evaluation - especially in financial contexts - it is advisable to consider multiple metrics to fully understand the trade-offs.\n",
    "In our case, the combination of a high R² and a relatively low MAE alongside the MSE value suggests that our model performs very well."
   ]
  },
  {
   "cell_type": "markdown",
   "id": "0156d7fe-26fc-420f-9412-5698e6458dde",
   "metadata": {},
   "source": [
    "Final Model built with the optimal hyperparameters from all experiments is ready!"
   ]
  },
  {
   "cell_type": "code",
   "execution_count": 45,
   "id": "c71b8f4f-1281-4139-885b-c722e7320f8e",
   "metadata": {},
   "outputs": [],
   "source": [
    "class FinalMLP(nn.Module):\n",
    "    def __init__(self, input_dim):\n",
    "        \"\"\"\n",
    "        Final model architecture based on the best hyperparameters:\n",
    "        - 2 hidden layers, each with 200 neurons.\n",
    "        - LeakyReLU activation function for each hidden layer.\n",
    "        - Output layer with 1 neuron (for option price prediction).\n",
    "        \n",
    "        Parameters:\n",
    "            input_dim (int): Number of input features.\n",
    "        \"\"\"\n",
    "        super(FinalMLP, self).__init__()\n",
    "        self.network = nn.Sequential(\n",
    "            nn.Linear(input_dim, 200),   # First hidden layer\n",
    "            nn.LeakyReLU(),              # LeakyReLU activation\n",
    "            nn.Linear(200, 200),         # Second hidden layer\n",
    "            nn.LeakyReLU(),              # LeakyReLU activation\n",
    "            nn.Linear(200, 1)            # Output layer\n",
    "        )\n",
    "    \n",
    "    def forward(self, x):\n",
    "        \"\"\"\n",
    "        Forward pass: Computes the output of the network given input x.\n",
    "        \"\"\"\n",
    "        return self.network(x)"
   ]
  },
  {
   "cell_type": "code",
   "execution_count": 46,
   "id": "223a00b3-a668-4273-b3c0-9263ea37f4de",
   "metadata": {},
   "outputs": [
    {
     "name": "stdout",
     "output_type": "stream",
     "text": [
      "tensor([[-1.2912, -0.6199,  0.1138,  0.0340, -0.8225]])\n",
      "Predicted option price: -0.0340329073369503\n"
     ]
    }
   ],
   "source": [
    "input_dim = 5  # Define input dimension (e.g., 5 for [S, K, T, r, sigma])\n",
    "model = FinalMLP(input_dim)\n",
    "\n",
    "# Create a dummy input (batch size 1)\n",
    "dummy_input = torch.randn(1, input_dim)\n",
    "print(dummy_input)\n",
    "output = model(dummy_input)\n",
    "print(\"Predicted option price:\", output.item())"
   ]
  },
  {
   "cell_type": "code",
   "execution_count": null,
   "id": "5663d40c-c13d-4482-ad3c-507d23c0b34a",
   "metadata": {},
   "outputs": [],
   "source": []
  },
  {
   "cell_type": "code",
   "execution_count": null,
   "id": "dba139dc-ce8f-4a6a-a5f2-0a8ca6d06160",
   "metadata": {},
   "outputs": [],
   "source": []
  }
 ],
 "metadata": {
  "kernelspec": {
   "display_name": "Python 3 (ipykernel)",
   "language": "python",
   "name": "python3"
  },
  "language_info": {
   "codemirror_mode": {
    "name": "ipython",
    "version": 3
   },
   "file_extension": ".py",
   "mimetype": "text/x-python",
   "name": "python",
   "nbconvert_exporter": "python",
   "pygments_lexer": "ipython3",
   "version": "3.11.5"
  }
 },
 "nbformat": 4,
 "nbformat_minor": 5
}
